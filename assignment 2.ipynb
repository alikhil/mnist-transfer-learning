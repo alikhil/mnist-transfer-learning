{
 "cells": [
  {
   "cell_type": "code",
   "execution_count": 100,
   "metadata": {
    "collapsed": false
   },
   "outputs": [],
   "source": [
    "import numpy as np\n",
    "\n",
    "from keras.models import Sequential, Model\n",
    "from keras.layers import Dense, Dropout, Activation, Flatten\n",
    "from keras.layers import Convolution2D, MaxPooling2D\n",
    "from keras import optimizers\n",
    "from keras.utils import np_utils\n",
    "from keras.datasets import mnist\n",
    "from keras.callbacks import EarlyStopping"
   ]
  },
  {
   "cell_type": "code",
   "execution_count": 52,
   "metadata": {
    "collapsed": true
   },
   "outputs": [],
   "source": [
    "import matplotlib.pyplot as plt\n",
    "\n",
    "from keras.layers.normalization import BatchNormalization"
   ]
  },
  {
   "cell_type": "markdown",
   "metadata": {},
   "source": [
    "Build a DNN with five hidden layers of 100 neurons each, He initialization, and the ELU\n",
    "activation function.\n",
    "2. Using Adam optimization and early stopping, try training it on MNIST but only on digits 0\n",
    "to 4, as we will use transfer learning for digits 5 to 9 in the next exercise. You will need a\n",
    "softmax output layer with five neurons.\n",
    "3. Tune the hyperparameters using cross-validation and see what precision you can\n",
    "achieve.\n",
    "4. Now try adding Batch Normalization and compare the learning curves: is it converging\n",
    "faster than before? Does it produce a better model?\n",
    "5. Is the model overfitting the training set? Try adding dropout to every layer and try\n",
    "again. Does it help?"
   ]
  },
  {
   "cell_type": "code",
   "execution_count": 3,
   "metadata": {
    "collapsed": true
   },
   "outputs": [],
   "source": [
    "np.random.seed(123) \n"
   ]
  },
  {
   "cell_type": "code",
   "execution_count": 4,
   "metadata": {
    "collapsed": false
   },
   "outputs": [],
   "source": [
    "(X_train, y_train), (X_test, y_test) = mnist.load_data()\n",
    "\n"
   ]
  },
  {
   "cell_type": "code",
   "execution_count": 5,
   "metadata": {
    "collapsed": false
   },
   "outputs": [],
   "source": [
    "digits_04 = [0, 1, 2, 3, 4]\n",
    "digits_59 = [5, 6, 7, 8, 9]"
   ]
  },
  {
   "cell_type": "code",
   "execution_count": 6,
   "metadata": {
    "collapsed": false
   },
   "outputs": [],
   "source": [
    "X_train = X_train.reshape((-1, 784))\n",
    "X_test = X_test.reshape((-1, 784))"
   ]
  },
  {
   "cell_type": "code",
   "execution_count": 7,
   "metadata": {
    "collapsed": false
   },
   "outputs": [],
   "source": [
    "x_train04, y_train04 = X_train[y_train <= 4], y_train[y_train <= 4]"
   ]
  },
  {
   "cell_type": "code",
   "execution_count": 8,
   "metadata": {
    "collapsed": false
   },
   "outputs": [],
   "source": [
    "x_train59, y_train59 = X_train[y_train > 4], y_train[y_train > 4]"
   ]
  },
  {
   "cell_type": "code",
   "execution_count": 9,
   "metadata": {
    "collapsed": true
   },
   "outputs": [],
   "source": [
    "x_test04, y_test04 = X_test[y_test <= 4], y_test[y_test <= 4]"
   ]
  },
  {
   "cell_type": "code",
   "execution_count": 10,
   "metadata": {
    "collapsed": true
   },
   "outputs": [],
   "source": [
    "x_test59, y_test59 = X_test[y_test > 4], y_test[y_test > 4]"
   ]
  },
  {
   "cell_type": "code",
   "execution_count": 11,
   "metadata": {
    "collapsed": false
   },
   "outputs": [],
   "source": [
    "y_train59=y_train59-5"
   ]
  },
  {
   "cell_type": "code",
   "execution_count": 12,
   "metadata": {
    "collapsed": false
   },
   "outputs": [],
   "source": [
    "y_test59=y_test59-5"
   ]
  },
  {
   "cell_type": "code",
   "execution_count": 13,
   "metadata": {
    "collapsed": false
   },
   "outputs": [],
   "source": [
    "num_classes = 5\n",
    "\n",
    "y_train04 = np_utils.to_categorical(y_train04, num_classes)\n",
    "y_test04 = np_utils.to_categorical(y_test04, num_classes)\n",
    "\n",
    "\n",
    "y_train59 = np_utils.to_categorical(y_train59, num_classes)\n",
    "y_test59 = np_utils.to_categorical(y_test59, num_classes)"
   ]
  },
  {
   "cell_type": "code",
   "execution_count": 32,
   "metadata": {
    "collapsed": true
   },
   "outputs": [],
   "source": [
    "def getmodel():\n",
    "    model = Sequential()\n",
    "    model.add(Dense(100, activation='elu', input_shape=(784,), kernel_initializer='he_normal'))\n",
    "    model.add(Dense(100, activation='elu', kernel_initializer='he_normal'))\n",
    "    model.add(Dense(100, activation='elu', kernel_initializer='he_normal'))\n",
    "    model.add(Dense(100, activation='elu', kernel_initializer='he_normal'))\n",
    "    model.add(Dense(100, activation='elu', kernel_initializer='he_normal'))\n",
    "    model.add(Dense(5, activation='softmax', kernel_initializer='he_normal'))\n",
    "    return model"
   ]
  },
  {
   "cell_type": "code",
   "execution_count": 33,
   "metadata": {
    "collapsed": false
   },
   "outputs": [],
   "source": [
    "model = getmodel()"
   ]
  },
  {
   "cell_type": "code",
   "execution_count": 26,
   "metadata": {
    "collapsed": false
   },
   "outputs": [],
   "source": [
    "model.compile(optimizer='adam',loss='categorical_crossentropy', metrics=['accuracy'])"
   ]
  },
  {
   "cell_type": "code",
   "execution_count": 139,
   "metadata": {
    "collapsed": true
   },
   "outputs": [],
   "source": [
    "es = EarlyStopping(monitor='val_acc', patience=3, verbose=1)\n",
    "es_acc = EarlyStopping(monitor='acc', patience=3, verbose=1)"
   ]
  },
  {
   "cell_type": "markdown",
   "metadata": {},
   "source": [
    "Try to fit with different hyperparameters:"
   ]
  },
  {
   "cell_type": "code",
   "execution_count": 30,
   "metadata": {
    "collapsed": false
   },
   "outputs": [
    {
     "name": "stdout",
     "output_type": "stream",
     "text": [
      "Train on 30596 samples, validate on 5139 samples\n",
      "Epoch 1/100\n",
      "30596/30596 [==============================] - 3s 86us/step - loss: 0.8626 - acc: 0.9462 - val_loss: 0.7529 - val_acc: 0.9529\n",
      "Epoch 2/100\n",
      "30596/30596 [==============================] - 3s 85us/step - loss: 0.7131 - acc: 0.9555 - val_loss: 0.9498 - val_acc: 0.9408\n",
      "Epoch 3/100\n",
      "30596/30596 [==============================] - 3s 88us/step - loss: 0.9380 - acc: 0.9415 - val_loss: 0.5363 - val_acc: 0.9667\n",
      "Epoch 4/100\n",
      "30596/30596 [==============================] - 2s 81us/step - loss: 0.6973 - acc: 0.9567 - val_loss: 0.4894 - val_acc: 0.9694\n",
      "Epoch 5/100\n",
      "30596/30596 [==============================] - 3s 87us/step - loss: 0.8098 - acc: 0.9497 - val_loss: 0.9267 - val_acc: 0.9424\n",
      "Epoch 6/100\n",
      "30596/30596 [==============================] - 3s 84us/step - loss: 0.7984 - acc: 0.9504 - val_loss: 0.5603 - val_acc: 0.9650\n",
      "Epoch 7/100\n",
      "30596/30596 [==============================] - 2s 75us/step - loss: 0.9456 - acc: 0.9412 - val_loss: 0.8232 - val_acc: 0.9488\n",
      "Epoch 00007: early stopping\n"
     ]
    }
   ],
   "source": [
    "history1 = model.fit(x_train04, y_train04, validation_data=(x_test04, y_test04), epochs=100, batch_size=128, callbacks=[es])"
   ]
  },
  {
   "cell_type": "code",
   "execution_count": 31,
   "metadata": {
    "collapsed": false
   },
   "outputs": [
    {
     "name": "stdout",
     "output_type": "stream",
     "text": [
      "Train on 30596 samples, validate on 5139 samples\n",
      "Epoch 1/100\n",
      "30596/30596 [==============================] - 4s 123us/step - loss: 0.8097 - acc: 0.9497 - val_loss: 0.5740 - val_acc: 0.9644\n",
      "Epoch 2/100\n",
      "30596/30596 [==============================] - 4s 123us/step - loss: 1.1455 - acc: 0.9288 - val_loss: 1.0570 - val_acc: 0.9344\n",
      "Epoch 3/100\n",
      "30596/30596 [==============================] - 4s 129us/step - loss: 1.1776 - acc: 0.9269 - val_loss: 0.8437 - val_acc: 0.9477\n",
      "Epoch 4/100\n",
      "30596/30596 [==============================] - 4s 120us/step - loss: 1.1114 - acc: 0.9310 - val_loss: 1.4826 - val_acc: 0.9080\n",
      "Epoch 00004: early stopping\n"
     ]
    }
   ],
   "source": [
    "history2 = model.fit(x_train04, y_train04, validation_data=(x_test04, y_test04), epochs=100, batch_size=64, callbacks=[es])"
   ]
  },
  {
   "cell_type": "code",
   "execution_count": 39,
   "metadata": {
    "collapsed": true
   },
   "outputs": [],
   "source": [
    "model=getmodel()"
   ]
  },
  {
   "cell_type": "code",
   "execution_count": 40,
   "metadata": {
    "collapsed": true
   },
   "outputs": [],
   "source": [
    "adam = optimizers.Adam(lr=0.0005)\n",
    "model.compile(optimizer=adam,loss='categorical_crossentropy', metrics=['accuracy'])"
   ]
  },
  {
   "cell_type": "code",
   "execution_count": 131,
   "metadata": {
    "collapsed": true
   },
   "outputs": [],
   "source": [
    "def compile(model):\n",
    "    adam = optimizers.Adam(lr=0.0005)\n",
    "    model.compile(optimizer=adam,loss='categorical_crossentropy', metrics=['accuracy'])"
   ]
  },
  {
   "cell_type": "code",
   "execution_count": 41,
   "metadata": {
    "collapsed": false
   },
   "outputs": [
    {
     "name": "stdout",
     "output_type": "stream",
     "text": [
      "Train on 30596 samples, validate on 5139 samples\n",
      "Epoch 1/100\n",
      "30596/30596 [==============================] - 3s 94us/step - loss: 1.2907 - acc: 0.9027 - val_loss: 0.3608 - val_acc: 0.9712\n",
      "Epoch 2/100\n",
      "30596/30596 [==============================] - 2s 76us/step - loss: 0.3930 - acc: 0.9688 - val_loss: 0.2069 - val_acc: 0.9813\n",
      "Epoch 3/100\n",
      "30596/30596 [==============================] - 2s 73us/step - loss: 0.3077 - acc: 0.9748 - val_loss: 0.2094 - val_acc: 0.9821\n",
      "Epoch 4/100\n",
      "30596/30596 [==============================] - 2s 73us/step - loss: 0.2752 - acc: 0.9768 - val_loss: 0.2252 - val_acc: 0.9805\n",
      "Epoch 5/100\n",
      "30596/30596 [==============================] - 3s 83us/step - loss: 0.2135 - acc: 0.9822 - val_loss: 0.1521 - val_acc: 0.9864\n",
      "Epoch 6/100\n",
      "30596/30596 [==============================] - 2s 77us/step - loss: 0.1835 - acc: 0.9845 - val_loss: 0.1665 - val_acc: 0.9850\n",
      "Epoch 7/100\n",
      "30596/30596 [==============================] - 2s 72us/step - loss: 0.1709 - acc: 0.9850 - val_loss: 0.2395 - val_acc: 0.9792\n",
      "Epoch 8/100\n",
      "30596/30596 [==============================] - 2s 78us/step - loss: 0.1742 - acc: 0.9851 - val_loss: 0.1898 - val_acc: 0.9838\n",
      "Epoch 00008: early stopping\n"
     ]
    }
   ],
   "source": [
    "history1 = model.fit(x_train04, y_train04, validation_data=(x_test04, y_test04), epochs=100, batch_size=128, callbacks=[es])"
   ]
  },
  {
   "cell_type": "markdown",
   "metadata": {},
   "source": [
    "So, best hyperparamethers was learning rate=0.0005 and batch size = 128"
   ]
  },
  {
   "cell_type": "code",
   "execution_count": 45,
   "metadata": {
    "collapsed": false
   },
   "outputs": [
    {
     "data": {
      "text/plain": [
       "{'acc': [0.90269969930709892,\n",
       "  0.96881945352333643,\n",
       "  0.97483331154399266,\n",
       "  0.97682703621388411,\n",
       "  0.98221989802588572,\n",
       "  0.98454046280559548,\n",
       "  0.98499803895934113,\n",
       "  0.98512877500326845],\n",
       " 'loss': [1.2906717645662613,\n",
       "  0.39303222275845123,\n",
       "  0.30770651007352978,\n",
       "  0.27515301063553288,\n",
       "  0.21354194655137751,\n",
       "  0.18347066356305761,\n",
       "  0.170891590480726,\n",
       "  0.17424721449429889],\n",
       " 'val_acc': [0.97120062268923912,\n",
       "  0.98131932282545242,\n",
       "  0.98209768445558132,\n",
       "  0.98054096127651291,\n",
       "  0.98637867289355907,\n",
       "  0.98501654026410435,\n",
       "  0.9791788285658688,\n",
       "  0.98384899785950575],\n",
       " 'val_loss': [0.36076334211739741,\n",
       "  0.20685878521049217,\n",
       "  0.20936511801630736,\n",
       "  0.22520951865204505,\n",
       "  0.1521438134657806,\n",
       "  0.16645488318795079,\n",
       "  0.23952475484828253,\n",
       "  0.18982530398246916]}"
      ]
     },
     "execution_count": 45,
     "metadata": {},
     "output_type": "execute_result"
    }
   ],
   "source": [
    "history1.history"
   ]
  },
  {
   "cell_type": "code",
   "execution_count": 55,
   "metadata": {
    "collapsed": false
   },
   "outputs": [
    {
     "data": {
      "image/png": "[encoded data removed]",
      "text/plain": [
       "<matplotlib.figure.Figure at 0x120b70fd0>"
      ]
     },
     "metadata": {},
     "output_type": "display_data"
    }
   ],
   "source": [
    "def draw_plot(h,title):\n",
    "    fig, ax = plt.subplots(figsize=(12, 6))\n",
    "    ax.plot(h.history['acc'])\n",
    "    ax.plot(h.history['val_acc'])\n",
    "    ax.legend(['train', 'valid'])\n",
    "    ax.set_title(title)\n",
    "    ax.set_xlabel('epoch')\n",
    "    ax.set_ylabel('value')\n",
    "    plt.show()\n",
    "    \n",
    "draw_plot(history1, 'accuracy values before batch normalization')"
   ]
  },
  {
   "cell_type": "code",
   "execution_count": 62,
   "metadata": {
    "collapsed": true
   },
   "outputs": [],
   "source": [
    "def get_new_model(dropout=False):\n",
    "    model = Sequential()\n",
    "    model.add(Dense(100, input_shape=(784,), kernel_initializer='he_normal'))\n",
    "    model.add(BatchNormalization())\n",
    "    model.add(Activation('elu'))\n",
    "    \n",
    "    if dropout:\n",
    "        model.add(Dropout(0.1))\n",
    "    \n",
    "    model.add(Dense(100, kernel_initializer='he_normal'))\n",
    "    model.add(BatchNormalization())\n",
    "    model.add(Activation('elu'))\n",
    "    \n",
    "    if dropout:\n",
    "        model.add(Dropout(0.1))\n",
    "    \n",
    "    model.add(Dense(100, kernel_initializer='he_normal'))\n",
    "    model.add(BatchNormalization())\n",
    "    model.add(Activation('elu'))\n",
    "    \n",
    "    if dropout:\n",
    "        model.add(Dropout(0.1))\n",
    "    \n",
    "    model.add(Dense(100, kernel_initializer='he_normal'))\n",
    "    model.add(BatchNormalization())\n",
    "    model.add(Activation('elu'))\n",
    "    \n",
    "    if dropout:\n",
    "        model.add(Dropout(0.1))\n",
    "    \n",
    "    model.add(Dense(100, kernel_initializer='he_normal'))\n",
    "    model.add(BatchNormalization())\n",
    "    model.add(Activation('elu'))\n",
    "    \n",
    "    if dropout:\n",
    "        model.add(Dropout(0.1))\n",
    "    \n",
    "    model.add(Dense(5, activation='softmax', kernel_initializer='he_normal'))\n",
    "    return model"
   ]
  },
  {
   "cell_type": "code",
   "execution_count": 54,
   "metadata": {
    "collapsed": true
   },
   "outputs": [],
   "source": [
    "m = get_new_model()"
   ]
  },
  {
   "cell_type": "code",
   "execution_count": 57,
   "metadata": {
    "collapsed": true
   },
   "outputs": [],
   "source": [
    "adam = optimizers.Adam(lr=0.0005)\n",
    "m.compile(optimizer=adam,loss='categorical_crossentropy', metrics=['accuracy'])"
   ]
  },
  {
   "cell_type": "code",
   "execution_count": 58,
   "metadata": {
    "collapsed": false
   },
   "outputs": [
    {
     "name": "stdout",
     "output_type": "stream",
     "text": [
      "Train on 30596 samples, validate on 5139 samples\n",
      "Epoch 1/100\n",
      "30596/30596 [==============================] - 7s 241us/step - loss: 0.1556 - acc: 0.9530 - val_loss: 0.0621 - val_acc: 0.9819\n",
      "Epoch 2/100\n",
      "30596/30596 [==============================] - 5s 167us/step - loss: 0.0548 - acc: 0.9839 - val_loss: 0.0374 - val_acc: 0.9887\n",
      "Epoch 3/100\n",
      "30596/30596 [==============================] - 5s 166us/step - loss: 0.0349 - acc: 0.9895 - val_loss: 0.0292 - val_acc: 0.9910\n",
      "Epoch 4/100\n",
      "30596/30596 [==============================] - 5s 175us/step - loss: 0.0241 - acc: 0.9930 - val_loss: 0.0290 - val_acc: 0.9903\n",
      "Epoch 5/100\n",
      "30596/30596 [==============================] - 6s 182us/step - loss: 0.0201 - acc: 0.9942 - val_loss: 0.0271 - val_acc: 0.9905\n",
      "Epoch 6/100\n",
      "30596/30596 [==============================] - 6s 191us/step - loss: 0.0207 - acc: 0.9933 - val_loss: 0.0237 - val_acc: 0.9922\n",
      "Epoch 7/100\n",
      "30596/30596 [==============================] - 6s 188us/step - loss: 0.0137 - acc: 0.9958 - val_loss: 0.0381 - val_acc: 0.9881\n",
      "Epoch 8/100\n",
      "30596/30596 [==============================] - 5s 170us/step - loss: 0.0162 - acc: 0.9950 - val_loss: 0.0283 - val_acc: 0.9909\n",
      "Epoch 9/100\n",
      "30596/30596 [==============================] - 6s 185us/step - loss: 0.0083 - acc: 0.9979 - val_loss: 0.0324 - val_acc: 0.9912\n",
      "Epoch 00009: early stopping\n"
     ]
    }
   ],
   "source": [
    "hh = m.fit(x_train04, y_train04, validation_data=(x_test04, y_test04), epochs=100, batch_size=128, callbacks=[es])"
   ]
  },
  {
   "cell_type": "code",
   "execution_count": 59,
   "metadata": {
    "collapsed": false
   },
   "outputs": [
    {
     "data": {
      "image/png": "[encoded data removed]",
      "text/plain": [
       "<matplotlib.figure.Figure at 0x120ad7518>"
      ]
     },
     "metadata": {},
     "output_type": "display_data"
    }
   ],
   "source": [
    "draw_plot(hh, 'accuracy after normalization')"
   ]
  },
  {
   "cell_type": "code",
   "execution_count": 112,
   "metadata": {
    "collapsed": false
   },
   "outputs": [],
   "source": [
    "mdrop = get_new_model(True)\n",
    "mdrop.compile(optimizer=adam,loss='categorical_crossentropy', metrics=['accuracy'])"
   ]
  },
  {
   "cell_type": "code",
   "execution_count": 113,
   "metadata": {
    "collapsed": false
   },
   "outputs": [
    {
     "name": "stdout",
     "output_type": "stream",
     "text": [
      "Train on 30596 samples, validate on 5139 samples\n",
      "Epoch 1/100\n",
      "30596/30596 [==============================] - 8s 261us/step - loss: 0.1416 - acc: 0.9552 - val_loss: 0.0526 - val_acc: 0.9850\n",
      "Epoch 2/100\n",
      "30596/30596 [==============================] - 6s 184us/step - loss: 0.0702 - acc: 0.9783 - val_loss: 0.0478 - val_acc: 0.9848\n",
      "Epoch 3/100\n",
      "30596/30596 [==============================] - 6s 199us/step - loss: 0.0620 - acc: 0.9811 - val_loss: 0.0404 - val_acc: 0.9856\n",
      "Epoch 4/100\n",
      "30596/30596 [==============================] - 6s 209us/step - loss: 0.0534 - acc: 0.9836 - val_loss: 0.0328 - val_acc: 0.9893\n",
      "Epoch 5/100\n",
      "30596/30596 [==============================] - 6s 196us/step - loss: 0.0499 - acc: 0.9842 - val_loss: 0.0298 - val_acc: 0.9893\n",
      "Epoch 6/100\n",
      "30596/30596 [==============================] - 5s 173us/step - loss: 0.0405 - acc: 0.9880 - val_loss: 0.0259 - val_acc: 0.9912\n",
      "Epoch 7/100\n",
      "30596/30596 [==============================] - 6s 197us/step - loss: 0.0360 - acc: 0.9886 - val_loss: 0.0285 - val_acc: 0.9910\n",
      "Epoch 8/100\n",
      "30596/30596 [==============================] - 7s 219us/step - loss: 0.0422 - acc: 0.9861 - val_loss: 0.0257 - val_acc: 0.9918\n",
      "Epoch 9/100\n",
      "30596/30596 [==============================] - 5s 164us/step - loss: 0.0369 - acc: 0.9881 - val_loss: 0.0251 - val_acc: 0.9918\n",
      "Epoch 10/100\n",
      "30596/30596 [==============================] - 5s 156us/step - loss: 0.0311 - acc: 0.9900 - val_loss: 0.0249 - val_acc: 0.9910\n",
      "Epoch 11/100\n",
      "30596/30596 [==============================] - 5s 157us/step - loss: 0.0355 - acc: 0.9891 - val_loss: 0.0258 - val_acc: 0.9924\n",
      "Epoch 12/100\n",
      "30596/30596 [==============================] - 5s 151us/step - loss: 0.0294 - acc: 0.9911 - val_loss: 0.0224 - val_acc: 0.9936\n",
      "Epoch 13/100\n",
      "30596/30596 [==============================] - 5s 155us/step - loss: 0.0268 - acc: 0.9916 - val_loss: 0.0222 - val_acc: 0.9930\n",
      "Epoch 14/100\n",
      "30596/30596 [==============================] - 5s 155us/step - loss: 0.0313 - acc: 0.9900 - val_loss: 0.0222 - val_acc: 0.9938\n",
      "Epoch 15/100\n",
      "30596/30596 [==============================] - 5s 153us/step - loss: 0.0320 - acc: 0.9895 - val_loss: 0.0272 - val_acc: 0.9918\n",
      "Epoch 16/100\n",
      "30596/30596 [==============================] - 5s 164us/step - loss: 0.0263 - acc: 0.9910 - val_loss: 0.0242 - val_acc: 0.9924\n",
      "Epoch 17/100\n",
      "30596/30596 [==============================] - 5s 163us/step - loss: 0.0233 - acc: 0.9922 - val_loss: 0.0232 - val_acc: 0.9934\n",
      "Epoch 00017: early stopping\n"
     ]
    }
   ],
   "source": [
    "hdrop = mdrop.fit(x_train04, y_train04, validation_data=(x_test04, y_test04), epochs=100, batch_size=128, callbacks=[es])"
   ]
  },
  {
   "cell_type": "code",
   "execution_count": 114,
   "metadata": {
    "collapsed": false
   },
   "outputs": [
    {
     "data": {
      "image/png": "[encoded data removed]",
      "text/plain": [
       "<matplotlib.figure.Figure at 0x12552da58>"
      ]
     },
     "metadata": {},
     "output_type": "display_data"
    }
   ],
   "source": [
    "draw_plot(hdrop, 'accuracy with dropout and normalization')"
   ]
  },
  {
   "cell_type": "markdown",
   "metadata": {},
   "source": [
    "Model does not overfit on training set. And adding dropout layers improves accuracy a little bit "
   ]
  },
  {
   "cell_type": "code",
   "execution_count": 115,
   "metadata": {
    "collapsed": false
   },
   "outputs": [
    {
     "name": "stdout",
     "output_type": "stream",
     "text": [
      "_________________________________________________________________\n",
      "Layer (type)                 Output Shape              Param #   \n",
      "=================================================================\n",
      "dense_55 (Dense)             (None, 100)               78500     \n",
      "_________________________________________________________________\n",
      "batch_normalization_11 (Batc (None, 100)               400       \n",
      "_________________________________________________________________\n",
      "activation_11 (Activation)   (None, 100)               0         \n",
      "_________________________________________________________________\n",
      "dropout_6 (Dropout)          (None, 100)               0         \n",
      "_________________________________________________________________\n",
      "dense_56 (Dense)             (None, 100)               10100     \n",
      "_________________________________________________________________\n",
      "batch_normalization_12 (Batc (None, 100)               400       \n",
      "_________________________________________________________________\n",
      "activation_12 (Activation)   (None, 100)               0         \n",
      "_________________________________________________________________\n",
      "dropout_7 (Dropout)          (None, 100)               0         \n",
      "_________________________________________________________________\n",
      "dense_57 (Dense)             (None, 100)               10100     \n",
      "_________________________________________________________________\n",
      "batch_normalization_13 (Batc (None, 100)               400       \n",
      "_________________________________________________________________\n",
      "activation_13 (Activation)   (None, 100)               0         \n",
      "_________________________________________________________________\n",
      "dropout_8 (Dropout)          (None, 100)               0         \n",
      "_________________________________________________________________\n",
      "dense_58 (Dense)             (None, 100)               10100     \n",
      "_________________________________________________________________\n",
      "batch_normalization_14 (Batc (None, 100)               400       \n",
      "_________________________________________________________________\n",
      "activation_14 (Activation)   (None, 100)               0         \n",
      "_________________________________________________________________\n",
      "dropout_9 (Dropout)          (None, 100)               0         \n",
      "_________________________________________________________________\n",
      "dense_59 (Dense)             (None, 100)               10100     \n",
      "_________________________________________________________________\n",
      "batch_normalization_15 (Batc (None, 100)               400       \n",
      "_________________________________________________________________\n",
      "activation_15 (Activation)   (None, 100)               0         \n",
      "_________________________________________________________________\n",
      "dropout_10 (Dropout)         (None, 100)               0         \n",
      "_________________________________________________________________\n",
      "dense_60 (Dense)             (None, 5)                 505       \n",
      "=================================================================\n",
      "Total params: 121,405\n",
      "Trainable params: 120,405\n",
      "Non-trainable params: 1,000\n",
      "_________________________________________________________________\n"
     ]
    }
   ],
   "source": [
    "best_model = mdrop\n",
    "best_model.summary()"
   ]
  },
  {
   "cell_type": "code",
   "execution_count": 116,
   "metadata": {
    "collapsed": false
   },
   "outputs": [],
   "source": [
    "for layer in best_model.layers[:-1]: # all except softmax\n",
    "    layer.trainable = False\n"
   ]
  },
  {
   "cell_type": "code",
   "execution_count": 87,
   "metadata": {
    "collapsed": false
   },
   "outputs": [],
   "source": []
  },
  {
   "cell_type": "code",
   "execution_count": null,
   "metadata": {
    "collapsed": false
   },
   "outputs": [],
   "source": []
  },
  {
   "cell_type": "code",
   "execution_count": 117,
   "metadata": {
    "collapsed": true
   },
   "outputs": [],
   "source": [
    "def replace_intermediate_layer_in_keras(layers, new_layers):\n",
    "    x = layers[0].output\n",
    "    for layer in layers[1:]:\n",
    "        x = layer(x)\n",
    "    for layer in new_layers:\n",
    "        x = layer(x)\n",
    "\n",
    "    new_model = Model(input=layers[0].input, output=x)\n",
    "    return new_model"
   ]
  },
  {
   "cell_type": "code",
   "execution_count": null,
   "metadata": {
    "collapsed": false
   },
   "outputs": [],
   "source": []
  },
  {
   "cell_type": "code",
   "execution_count": null,
   "metadata": {
    "collapsed": false
   },
   "outputs": [],
   "source": []
  },
  {
   "cell_type": "code",
   "execution_count": 152,
   "metadata": {
    "collapsed": false
   },
   "outputs": [
    {
     "name": "stderr",
     "output_type": "stream",
     "text": [
      "/Users/alikhil/anaconda/lib/python3.5/site-packages/ipykernel/__main__.py:8: UserWarning: Update your `Model` call to the Keras 2 API: `Model(inputs=Tensor(\"de..., outputs=Tensor(\"de...)`\n"
     ]
    }
   ],
   "source": [
    "model2 = best_model.model\n",
    "\n",
    "model22 = replace_intermediate_layer_in_keras(model2.layers[:-1], [Dense(5, activation='softmax', kernel_initializer='he_normal')])"
   ]
  },
  {
   "cell_type": "code",
   "execution_count": 153,
   "metadata": {
    "collapsed": true
   },
   "outputs": [],
   "source": [
    "compile(model22)"
   ]
  },
  {
   "cell_type": "code",
   "execution_count": null,
   "metadata": {
    "collapsed": false
   },
   "outputs": [],
   "source": []
  },
  {
   "cell_type": "code",
   "execution_count": 155,
   "metadata": {
    "collapsed": false
   },
   "outputs": [
    {
     "name": "stdout",
     "output_type": "stream",
     "text": [
      "Train on 500 samples, validate on 4861 samples\n",
      "Epoch 1/200\n",
      "500/500 [==============================] - 0s 639us/step - loss: 0.8182 - acc: 0.7300 - val_loss: 0.8155 - val_acc: 0.7256\n",
      "Epoch 2/200\n",
      "500/500 [==============================] - 0s 524us/step - loss: 0.8258 - acc: 0.7300 - val_loss: 0.8134 - val_acc: 0.7256\n",
      "Epoch 3/200\n",
      "500/500 [==============================] - 0s 528us/step - loss: 0.8370 - acc: 0.7040 - val_loss: 0.8114 - val_acc: 0.7258\n",
      "Epoch 4/200\n",
      "500/500 [==============================] - 0s 502us/step - loss: 0.8249 - acc: 0.7440 - val_loss: 0.8092 - val_acc: 0.7276\n",
      "Epoch 5/200\n",
      "500/500 [==============================] - 0s 874us/step - loss: 0.8260 - acc: 0.7080 - val_loss: 0.8067 - val_acc: 0.7285\n",
      "Epoch 6/200\n",
      "500/500 [==============================] - 1s 1ms/step - loss: 0.8259 - acc: 0.7200 - val_loss: 0.8042 - val_acc: 0.7299\n",
      "Epoch 7/200\n",
      "500/500 [==============================] - 0s 564us/step - loss: 0.7975 - acc: 0.7380 - val_loss: 0.8020 - val_acc: 0.7311\n",
      "Epoch 8/200\n",
      "500/500 [==============================] - 0s 530us/step - loss: 0.8192 - acc: 0.7160 - val_loss: 0.7999 - val_acc: 0.7332\n",
      "Epoch 9/200\n",
      "500/500 [==============================] - 0s 524us/step - loss: 0.8005 - acc: 0.6900 - val_loss: 0.7980 - val_acc: 0.7342\n",
      "Epoch 10/200\n",
      "500/500 [==============================] - 0s 500us/step - loss: 0.8167 - acc: 0.7220 - val_loss: 0.7962 - val_acc: 0.7350\n",
      "Epoch 11/200\n",
      "500/500 [==============================] - 0s 833us/step - loss: 0.8026 - acc: 0.7220 - val_loss: 0.7943 - val_acc: 0.7363\n",
      "Epoch 12/200\n",
      "500/500 [==============================] - 0s 597us/step - loss: 0.7870 - acc: 0.7420 - val_loss: 0.7926 - val_acc: 0.7379\n",
      "Epoch 13/200\n",
      "500/500 [==============================] - 0s 588us/step - loss: 0.7817 - acc: 0.7280 - val_loss: 0.7906 - val_acc: 0.7385\n",
      "Epoch 14/200\n",
      "500/500 [==============================] - 0s 517us/step - loss: 0.7824 - acc: 0.7380 - val_loss: 0.7887 - val_acc: 0.7385\n",
      "Epoch 15/200\n",
      "500/500 [==============================] - 0s 512us/step - loss: 0.7990 - acc: 0.7300 - val_loss: 0.7869 - val_acc: 0.7400\n",
      "Epoch 16/200\n",
      "500/500 [==============================] - 0s 495us/step - loss: 0.7775 - acc: 0.7560 - val_loss: 0.7859 - val_acc: 0.7391\n",
      "Epoch 17/200\n",
      "500/500 [==============================] - 0s 504us/step - loss: 0.7987 - acc: 0.7300 - val_loss: 0.7843 - val_acc: 0.7400\n",
      "Epoch 18/200\n",
      "500/500 [==============================] - 0s 498us/step - loss: 0.8084 - acc: 0.7420 - val_loss: 0.7823 - val_acc: 0.7404\n",
      "Epoch 19/200\n",
      "500/500 [==============================] - 0s 485us/step - loss: 0.7935 - acc: 0.7340 - val_loss: 0.7802 - val_acc: 0.7404\n",
      "Epoch 20/200\n",
      "500/500 [==============================] - 0s 539us/step - loss: 0.7680 - acc: 0.7420 - val_loss: 0.7783 - val_acc: 0.7418\n",
      "Epoch 21/200\n",
      "500/500 [==============================] - 0s 506us/step - loss: 0.7969 - acc: 0.7300 - val_loss: 0.7769 - val_acc: 0.7416\n",
      "Epoch 22/200\n",
      "500/500 [==============================] - 0s 528us/step - loss: 0.7651 - acc: 0.7300 - val_loss: 0.7751 - val_acc: 0.7422\n",
      "Epoch 23/200\n",
      "500/500 [==============================] - 0s 498us/step - loss: 0.7920 - acc: 0.7320 - val_loss: 0.7734 - val_acc: 0.7435\n",
      "Epoch 24/200\n",
      "500/500 [==============================] - 0s 888us/step - loss: 0.7760 - acc: 0.7280 - val_loss: 0.7717 - val_acc: 0.7445\n",
      "Epoch 25/200\n",
      "500/500 [==============================] - 0s 664us/step - loss: 0.7918 - acc: 0.7340 - val_loss: 0.7700 - val_acc: 0.7455\n",
      "Epoch 26/200\n",
      "500/500 [==============================] - 0s 761us/step - loss: 0.8037 - acc: 0.7160 - val_loss: 0.7681 - val_acc: 0.7461\n",
      "Epoch 27/200\n",
      "500/500 [==============================] - 1s 1ms/step - loss: 0.7741 - acc: 0.7220 - val_loss: 0.7664 - val_acc: 0.7478\n",
      "Epoch 28/200\n",
      "500/500 [==============================] - 0s 907us/step - loss: 0.7674 - acc: 0.7460 - val_loss: 0.7648 - val_acc: 0.7480\n",
      "Epoch 29/200\n",
      "500/500 [==============================] - 0s 653us/step - loss: 0.7836 - acc: 0.7340 - val_loss: 0.7632 - val_acc: 0.7484\n",
      "Epoch 30/200\n",
      "500/500 [==============================] - 0s 894us/step - loss: 0.7701 - acc: 0.7460 - val_loss: 0.7616 - val_acc: 0.7490\n",
      "Epoch 31/200\n",
      "500/500 [==============================] - 0s 501us/step - loss: 0.7979 - acc: 0.7140 - val_loss: 0.7598 - val_acc: 0.7498\n",
      "Epoch 32/200\n",
      "500/500 [==============================] - 0s 515us/step - loss: 0.7584 - acc: 0.7260 - val_loss: 0.7579 - val_acc: 0.7494\n",
      "Epoch 33/200\n",
      "500/500 [==============================] - 0s 562us/step - loss: 0.7557 - acc: 0.7400 - val_loss: 0.7562 - val_acc: 0.7501\n",
      "Epoch 34/200\n",
      "500/500 [==============================] - 0s 513us/step - loss: 0.7853 - acc: 0.7260 - val_loss: 0.7550 - val_acc: 0.7511\n",
      "Epoch 35/200\n",
      "500/500 [==============================] - 0s 592us/step - loss: 0.7565 - acc: 0.7440 - val_loss: 0.7541 - val_acc: 0.7511\n",
      "Epoch 36/200\n",
      "500/500 [==============================] - 0s 812us/step - loss: 0.7397 - acc: 0.7460 - val_loss: 0.7529 - val_acc: 0.7509\n",
      "Epoch 37/200\n",
      "500/500 [==============================] - 0s 550us/step - loss: 0.7608 - acc: 0.7300 - val_loss: 0.7517 - val_acc: 0.7507\n",
      "Epoch 00037: early stopping\n"
     ]
    }
   ],
   "source": [
    "hm2 = model22.fit(x_train59[0:500], y_train59[0:500], validation_data=(x_test59, y_test59), epochs=200, batch_size=128, callbacks=[es])"
   ]
  },
  {
   "cell_type": "code",
   "execution_count": 156,
   "metadata": {
    "collapsed": false
   },
   "outputs": [
    {
     "name": "stderr",
     "output_type": "stream",
     "text": [
      "/Users/alikhil/anaconda/lib/python3.5/site-packages/ipykernel/__main__.py:8: UserWarning: Update your `Model` call to the Keras 2 API: `Model(inputs=Tensor(\"de..., outputs=Tensor(\"dr...)`\n"
     ]
    }
   ],
   "source": [
    "cmod = replace_intermediate_layer_in_keras(model2.layers[:-1], [])"
   ]
  },
  {
   "cell_type": "code",
   "execution_count": 157,
   "metadata": {
    "collapsed": true
   },
   "outputs": [],
   "source": [
    "compile(cmod)"
   ]
  },
  {
   "cell_type": "code",
   "execution_count": 158,
   "metadata": {
    "collapsed": true
   },
   "outputs": [],
   "source": [
    "y_pred = cmod.predict(x_train59)"
   ]
  },
  {
   "cell_type": "code",
   "execution_count": 159,
   "metadata": {
    "collapsed": false
   },
   "outputs": [],
   "source": [
    "fmod = Sequential()\n",
    "fmod.add(Dense(5, activation='softmax',kernel_initializer='he_normal', input_shape=(100,)))"
   ]
  },
  {
   "cell_type": "code",
   "execution_count": 160,
   "metadata": {
    "collapsed": true
   },
   "outputs": [],
   "source": [
    "compile(fmod)"
   ]
  },
  {
   "cell_type": "code",
   "execution_count": 161,
   "metadata": {
    "collapsed": false
   },
   "outputs": [
    {
     "name": "stdout",
     "output_type": "stream",
     "text": [
      "Epoch 1/100\n",
      "29404/29404 [==============================] - 2s 67us/step - loss: 1.2445 - acc: 0.5420\n",
      "Epoch 2/100\n",
      "29404/29404 [==============================] - 1s 28us/step - loss: 0.7935 - acc: 0.7353\n",
      "Epoch 3/100\n",
      "29404/29404 [==============================] - 1s 31us/step - loss: 0.6809 - acc: 0.7786\n",
      "Epoch 4/100\n",
      "29404/29404 [==============================] - 1s 33us/step - loss: 0.6175 - acc: 0.7978\n",
      "Epoch 5/100\n",
      "29404/29404 [==============================] - 1s 31us/step - loss: 0.5755 - acc: 0.8095\n",
      "Epoch 6/100\n",
      "29404/29404 [==============================] - 1s 30us/step - loss: 0.5449 - acc: 0.8202\n",
      "Epoch 7/100\n",
      "29404/29404 [==============================] - 1s 37us/step - loss: 0.5207 - acc: 0.8276\n",
      "Epoch 8/100\n",
      "29404/29404 [==============================] - 1s 29us/step - loss: 0.5010 - acc: 0.8337\n",
      "Epoch 9/100\n",
      "29404/29404 [==============================] - 1s 30us/step - loss: 0.4842 - acc: 0.8394\n",
      "Epoch 10/100\n",
      "29404/29404 [==============================] - 1s 27us/step - loss: 0.4699 - acc: 0.8441\n",
      "Epoch 11/100\n",
      "29404/29404 [==============================] - 1s 30us/step - loss: 0.4571 - acc: 0.8488\n",
      "Epoch 12/100\n",
      "29404/29404 [==============================] - 1s 29us/step - loss: 0.4458 - acc: 0.8523\n",
      "Epoch 13/100\n",
      "29404/29404 [==============================] - 1s 41us/step - loss: 0.4355 - acc: 0.8555\n",
      "Epoch 14/100\n",
      "29404/29404 [==============================] - 1s 31us/step - loss: 0.4263 - acc: 0.8597\n",
      "Epoch 15/100\n",
      "29404/29404 [==============================] - 1s 33us/step - loss: 0.4180 - acc: 0.8623\n",
      "Epoch 16/100\n",
      "29404/29404 [==============================] - 1s 33us/step - loss: 0.4104 - acc: 0.8640\n",
      "Epoch 17/100\n",
      "29404/29404 [==============================] - 1s 34us/step - loss: 0.4032 - acc: 0.8666\n",
      "Epoch 18/100\n",
      "29404/29404 [==============================] - 1s 30us/step - loss: 0.3966 - acc: 0.8693\n",
      "Epoch 19/100\n",
      "29404/29404 [==============================] - 1s 29us/step - loss: 0.3908 - acc: 0.8704\n",
      "Epoch 20/100\n",
      "29404/29404 [==============================] - 1s 30us/step - loss: 0.3852 - acc: 0.8736\n",
      "Epoch 21/100\n",
      "29404/29404 [==============================] - 1s 30us/step - loss: 0.3798 - acc: 0.8757\n",
      "Epoch 22/100\n",
      "29404/29404 [==============================] - 1s 37us/step - loss: 0.3752 - acc: 0.8772\n",
      "Epoch 23/100\n",
      "29404/29404 [==============================] - 1s 30us/step - loss: 0.3704 - acc: 0.8781\n",
      "Epoch 24/100\n",
      "29404/29404 [==============================] - 1s 31us/step - loss: 0.3663 - acc: 0.8810\n",
      "Epoch 25/100\n",
      "29404/29404 [==============================] - 1s 40us/step - loss: 0.3622 - acc: 0.8817\n",
      "Epoch 26/100\n",
      "29404/29404 [==============================] - 1s 31us/step - loss: 0.3585 - acc: 0.8827\n",
      "Epoch 27/100\n",
      "29404/29404 [==============================] - 1s 34us/step - loss: 0.3548 - acc: 0.8842\n",
      "Epoch 28/100\n",
      "29404/29404 [==============================] - 1s 31us/step - loss: 0.3514 - acc: 0.8848\n",
      "Epoch 29/100\n",
      "29404/29404 [==============================] - 1s 31us/step - loss: 0.3485 - acc: 0.8859\n",
      "Epoch 30/100\n",
      "29404/29404 [==============================] - 1s 34us/step - loss: 0.3453 - acc: 0.8874\n",
      "Epoch 31/100\n",
      "29404/29404 [==============================] - 1s 36us/step - loss: 0.3424 - acc: 0.8869\n",
      "Epoch 32/100\n",
      "29404/29404 [==============================] - 1s 38us/step - loss: 0.3398 - acc: 0.8879\n",
      "Epoch 33/100\n",
      "29404/29404 [==============================] - 1s 34us/step - loss: 0.3371 - acc: 0.8894\n",
      "Epoch 34/100\n",
      "29404/29404 [==============================] - 1s 39us/step - loss: 0.3345 - acc: 0.8898\n",
      "Epoch 35/100\n",
      "29404/29404 [==============================] - 1s 41us/step - loss: 0.3322 - acc: 0.8902\n",
      "Epoch 36/100\n",
      "29404/29404 [==============================] - 1s 35us/step - loss: 0.3300 - acc: 0.8906\n",
      "Epoch 37/100\n",
      "29404/29404 [==============================] - 1s 32us/step - loss: 0.3276 - acc: 0.8920\n",
      "Epoch 38/100\n",
      "29404/29404 [==============================] - 1s 32us/step - loss: 0.3257 - acc: 0.8926\n",
      "Epoch 39/100\n",
      "29404/29404 [==============================] - 1s 35us/step - loss: 0.3236 - acc: 0.8934\n",
      "Epoch 40/100\n",
      "29404/29404 [==============================] - 1s 30us/step - loss: 0.3215 - acc: 0.8939\n",
      "Epoch 41/100\n",
      "29404/29404 [==============================] - 1s 28us/step - loss: 0.3201 - acc: 0.8944\n",
      "Epoch 42/100\n",
      "29404/29404 [==============================] - 1s 30us/step - loss: 0.3179 - acc: 0.8950\n",
      "Epoch 43/100\n",
      "29404/29404 [==============================] - 1s 35us/step - loss: 0.3164 - acc: 0.8959\n",
      "Epoch 44/100\n",
      "29404/29404 [==============================] - 1s 40us/step - loss: 0.3146 - acc: 0.8964\n",
      "Epoch 45/100\n",
      "29404/29404 [==============================] - 1s 37us/step - loss: 0.3130 - acc: 0.8966\n",
      "Epoch 46/100\n",
      "29404/29404 [==============================] - 1s 41us/step - loss: 0.3116 - acc: 0.8967\n",
      "Epoch 47/100\n",
      "29404/29404 [==============================] - 1s 41us/step - loss: 0.3102 - acc: 0.8975\n",
      "Epoch 48/100\n",
      "29404/29404 [==============================] - 1s 36us/step - loss: 0.3085 - acc: 0.8984\n",
      "Epoch 49/100\n",
      "29404/29404 [==============================] - 1s 30us/step - loss: 0.3073 - acc: 0.8984\n",
      "Epoch 50/100\n",
      "29404/29404 [==============================] - 1s 28us/step - loss: 0.3060 - acc: 0.8994\n",
      "Epoch 51/100\n",
      "29404/29404 [==============================] - 1s 39us/step - loss: 0.3047 - acc: 0.8995\n",
      "Epoch 52/100\n",
      "29404/29404 [==============================] - 1s 29us/step - loss: 0.3032 - acc: 0.8993\n",
      "Epoch 53/100\n",
      "29404/29404 [==============================] - 1s 34us/step - loss: 0.3020 - acc: 0.9008\n",
      "Epoch 54/100\n",
      "29404/29404 [==============================] - 1s 35us/step - loss: 0.3009 - acc: 0.9009\n",
      "Epoch 55/100\n",
      "29404/29404 [==============================] - 1s 29us/step - loss: 0.2998 - acc: 0.9007\n",
      "Epoch 56/100\n",
      "29404/29404 [==============================] - 1s 37us/step - loss: 0.2987 - acc: 0.9015\n",
      "Epoch 57/100\n",
      "29404/29404 [==============================] - 1s 38us/step - loss: 0.2974 - acc: 0.9020\n",
      "Epoch 58/100\n",
      "29404/29404 [==============================] - 1s 29us/step - loss: 0.2965 - acc: 0.9016\n",
      "Epoch 59/100\n",
      "29404/29404 [==============================] - 1s 30us/step - loss: 0.2954 - acc: 0.9016\n",
      "Epoch 60/100\n",
      "29404/29404 [==============================] - 1s 35us/step - loss: 0.2946 - acc: 0.9032\n",
      "Epoch 61/100\n",
      "29404/29404 [==============================] - 1s 43us/step - loss: 0.2934 - acc: 0.9029\n",
      "Epoch 62/100\n",
      "29404/29404 [==============================] - 1s 29us/step - loss: 0.2926 - acc: 0.9030\n",
      "Epoch 63/100\n",
      "29404/29404 [==============================] - 1s 30us/step - loss: 0.2917 - acc: 0.9032\n",
      "Epoch 64/100\n",
      "29404/29404 [==============================] - 1s 29us/step - loss: 0.2907 - acc: 0.9040\n",
      "Epoch 65/100\n",
      "29404/29404 [==============================] - 1s 30us/step - loss: 0.2899 - acc: 0.9037\n",
      "Epoch 66/100\n",
      "29404/29404 [==============================] - 1s 30us/step - loss: 0.2890 - acc: 0.9044\n",
      "Epoch 67/100\n",
      "29404/29404 [==============================] - 1s 30us/step - loss: 0.2882 - acc: 0.9043\n",
      "Epoch 68/100\n",
      "29404/29404 [==============================] - 1s 42us/step - loss: 0.2875 - acc: 0.9047\n",
      "Epoch 69/100\n",
      "29404/29404 [==============================] - 1s 27us/step - loss: 0.2865 - acc: 0.9051\n",
      "Epoch 70/100\n",
      "29404/29404 [==============================] - 1s 28us/step - loss: 0.2856 - acc: 0.9054\n",
      "Epoch 71/100\n",
      "29404/29404 [==============================] - 1s 29us/step - loss: 0.2850 - acc: 0.9059\n",
      "Epoch 72/100\n",
      "29404/29404 [==============================] - 1s 29us/step - loss: 0.2841 - acc: 0.9056\n",
      "Epoch 73/100\n",
      "29404/29404 [==============================] - 1s 37us/step - loss: 0.2835 - acc: 0.9064\n",
      "Epoch 74/100\n",
      "29404/29404 [==============================] - 1s 31us/step - loss: 0.2828 - acc: 0.9060\n",
      "Epoch 75/100\n",
      "29404/29404 [==============================] - 1s 40us/step - loss: 0.2819 - acc: 0.9070\n",
      "Epoch 76/100\n",
      "29404/29404 [==============================] - 1s 29us/step - loss: 0.2813 - acc: 0.9066\n",
      "Epoch 77/100\n",
      "29404/29404 [==============================] - 1s 37us/step - loss: 0.2806 - acc: 0.9071\n",
      "Epoch 78/100\n",
      "29404/29404 [==============================] - 1s 30us/step - loss: 0.2800 - acc: 0.9076\n",
      "Epoch 79/100\n",
      "29404/29404 [==============================] - 1s 40us/step - loss: 0.2792 - acc: 0.9080\n",
      "Epoch 80/100\n",
      "29404/29404 [==============================] - 2s 51us/step - loss: 0.2788 - acc: 0.9076\n",
      "Epoch 81/100\n",
      "29404/29404 [==============================] - 1s 35us/step - loss: 0.2779 - acc: 0.9088\n",
      "Epoch 82/100\n",
      "29404/29404 [==============================] - 1s 30us/step - loss: 0.2774 - acc: 0.9085\n",
      "Epoch 83/100\n",
      "29404/29404 [==============================] - 1s 28us/step - loss: 0.2769 - acc: 0.9086\n",
      "Epoch 84/100\n",
      "29404/29404 [==============================] - 1s 37us/step - loss: 0.2761 - acc: 0.9093\n",
      "Epoch 85/100\n",
      "29404/29404 [==============================] - 1s 37us/step - loss: 0.2757 - acc: 0.9097\n",
      "Epoch 86/100\n",
      "29404/29404 [==============================] - 1s 31us/step - loss: 0.2751 - acc: 0.9091\n",
      "Epoch 87/100\n",
      "29404/29404 [==============================] - 1s 30us/step - loss: 0.2744 - acc: 0.9096\n",
      "Epoch 88/100\n",
      "29404/29404 [==============================] - 1s 31us/step - loss: 0.2740 - acc: 0.9101\n",
      "Epoch 89/100\n",
      "29404/29404 [==============================] - 1s 45us/step - loss: 0.2735 - acc: 0.9101\n",
      "Epoch 90/100\n",
      "29404/29404 [==============================] - 1s 29us/step - loss: 0.2729 - acc: 0.9101\n",
      "Epoch 91/100\n",
      "29404/29404 [==============================] - 1s 31us/step - loss: 0.2723 - acc: 0.9104\n",
      "Epoch 92/100\n",
      "29404/29404 [==============================] - 1s 30us/step - loss: 0.2719 - acc: 0.9106\n",
      "Epoch 93/100\n",
      "29404/29404 [==============================] - 1s 28us/step - loss: 0.2713 - acc: 0.9109\n",
      "Epoch 94/100\n",
      "29404/29404 [==============================] - 1s 28us/step - loss: 0.2708 - acc: 0.9112\n",
      "Epoch 95/100\n",
      "29404/29404 [==============================] - 1s 36us/step - loss: 0.2702 - acc: 0.9112\n",
      "Epoch 96/100\n",
      "29404/29404 [==============================] - 1s 35us/step - loss: 0.2699 - acc: 0.9109\n",
      "Epoch 97/100\n",
      "29404/29404 [==============================] - 1s 33us/step - loss: 0.2694 - acc: 0.9110\n",
      "Epoch 00097: early stopping\n"
     ]
    },
    {
     "data": {
      "text/plain": [
       "<keras.callbacks.History at 0x1310a9668>"
      ]
     },
     "execution_count": 161,
     "metadata": {},
     "output_type": "execute_result"
    }
   ],
   "source": [
    "fmod.fit(y_pred, y_train59, epochs=100, batch_size=128, callbacks=[es_acc])"
   ]
  },
  {
   "cell_type": "code",
   "execution_count": 162,
   "metadata": {
    "collapsed": false
   },
   "outputs": [
    {
     "name": "stderr",
     "output_type": "stream",
     "text": [
      "/Users/alikhil/anaconda/lib/python3.5/site-packages/ipykernel/__main__.py:8: UserWarning: Update your `Model` call to the Keras 2 API: `Model(inputs=Tensor(\"de..., outputs=Tensor(\"de...)`\n"
     ]
    }
   ],
   "source": [
    "\n",
    "top4layers = replace_intermediate_layer_in_keras(model2.layers[:-5], [Dense(5, activation='softmax',kernel_initializer='he_normal', input_shape=(100,))])"
   ]
  },
  {
   "cell_type": "code",
   "execution_count": 163,
   "metadata": {
    "collapsed": true
   },
   "outputs": [],
   "source": [
    "compile(top4layers)"
   ]
  },
  {
   "cell_type": "code",
   "execution_count": 164,
   "metadata": {
    "collapsed": false
   },
   "outputs": [
    {
     "name": "stdout",
     "output_type": "stream",
     "text": [
      "Train on 500 samples, validate on 4861 samples\n",
      "Epoch 1/100\n",
      "500/500 [==============================] - 2s 3ms/step - loss: 2.0668 - acc: 0.1880 - val_loss: 2.0629 - val_acc: 0.1759\n",
      "Epoch 2/100\n",
      "500/500 [==============================] - 0s 480us/step - loss: 1.9743 - acc: 0.2420 - val_loss: 1.9915 - val_acc: 0.1930\n",
      "Epoch 3/100\n",
      "500/500 [==============================] - 0s 411us/step - loss: 1.9656 - acc: 0.2320 - val_loss: 1.9210 - val_acc: 0.2109\n",
      "Epoch 4/100\n",
      "500/500 [==============================] - 0s 453us/step - loss: 1.8739 - acc: 0.2380 - val_loss: 1.8533 - val_acc: 0.2333\n",
      "Epoch 5/100\n",
      "500/500 [==============================] - 0s 431us/step - loss: 1.8090 - acc: 0.2700 - val_loss: 1.7881 - val_acc: 0.2547\n",
      "Epoch 6/100\n",
      "500/500 [==============================] - 0s 459us/step - loss: 1.7654 - acc: 0.3100 - val_loss: 1.7268 - val_acc: 0.2796\n",
      "Epoch 7/100\n",
      "500/500 [==============================] - 0s 415us/step - loss: 1.6966 - acc: 0.3100 - val_loss: 1.6686 - val_acc: 0.3051\n",
      "Epoch 8/100\n",
      "500/500 [==============================] - 0s 566us/step - loss: 1.6130 - acc: 0.3440 - val_loss: 1.6136 - val_acc: 0.3267\n",
      "Epoch 9/100\n",
      "500/500 [==============================] - 0s 877us/step - loss: 1.5849 - acc: 0.3440 - val_loss: 1.5615 - val_acc: 0.3553\n",
      "Epoch 10/100\n",
      "500/500 [==============================] - 0s 475us/step - loss: 1.5245 - acc: 0.4040 - val_loss: 1.5126 - val_acc: 0.3779\n",
      "Epoch 11/100\n",
      "500/500 [==============================] - 0s 733us/step - loss: 1.5010 - acc: 0.3960 - val_loss: 1.4663 - val_acc: 0.4009\n",
      "Epoch 12/100\n",
      "500/500 [==============================] - 0s 501us/step - loss: 1.4620 - acc: 0.4200 - val_loss: 1.4226 - val_acc: 0.4211\n",
      "Epoch 13/100\n",
      "500/500 [==============================] - 0s 848us/step - loss: 1.4238 - acc: 0.4480 - val_loss: 1.3821 - val_acc: 0.4466\n",
      "Epoch 14/100\n",
      "500/500 [==============================] - 1s 1ms/step - loss: 1.3820 - acc: 0.4560 - val_loss: 1.3437 - val_acc: 0.4684\n",
      "Epoch 15/100\n",
      "500/500 [==============================] - 0s 966us/step - loss: 1.3396 - acc: 0.4740 - val_loss: 1.3081 - val_acc: 0.4890\n",
      "Epoch 16/100\n",
      "500/500 [==============================] - 0s 526us/step - loss: 1.3148 - acc: 0.5040 - val_loss: 1.2742 - val_acc: 0.5120\n",
      "Epoch 17/100\n",
      "500/500 [==============================] - 0s 650us/step - loss: 1.2822 - acc: 0.5220 - val_loss: 1.2428 - val_acc: 0.5308\n",
      "Epoch 18/100\n",
      "500/500 [==============================] - 0s 522us/step - loss: 1.2777 - acc: 0.5140 - val_loss: 1.2134 - val_acc: 0.5478\n",
      "Epoch 19/100\n",
      "500/500 [==============================] - 0s 766us/step - loss: 1.2137 - acc: 0.5560 - val_loss: 1.1856 - val_acc: 0.5653\n",
      "Epoch 20/100\n",
      "500/500 [==============================] - 0s 703us/step - loss: 1.1727 - acc: 0.5820 - val_loss: 1.1594 - val_acc: 0.5842\n",
      "Epoch 21/100\n",
      "500/500 [==============================] - 0s 465us/step - loss: 1.1702 - acc: 0.5860 - val_loss: 1.1347 - val_acc: 0.5972\n",
      "Epoch 22/100\n",
      "500/500 [==============================] - 0s 442us/step - loss: 1.1340 - acc: 0.6100 - val_loss: 1.1120 - val_acc: 0.6102\n",
      "Epoch 23/100\n",
      "500/500 [==============================] - 0s 438us/step - loss: 1.1283 - acc: 0.5900 - val_loss: 1.0908 - val_acc: 0.6192\n",
      "Epoch 24/100\n",
      "500/500 [==============================] - 0s 446us/step - loss: 1.0934 - acc: 0.6040 - val_loss: 1.0702 - val_acc: 0.6285\n",
      "Epoch 25/100\n",
      "500/500 [==============================] - 0s 550us/step - loss: 1.0693 - acc: 0.5960 - val_loss: 1.0512 - val_acc: 0.6359\n",
      "Epoch 26/100\n",
      "500/500 [==============================] - 0s 934us/step - loss: 1.0424 - acc: 0.6300 - val_loss: 1.0335 - val_acc: 0.6414\n",
      "Epoch 27/100\n",
      "500/500 [==============================] - 0s 540us/step - loss: 1.0388 - acc: 0.6300 - val_loss: 1.0169 - val_acc: 0.6464\n",
      "Epoch 28/100\n",
      "500/500 [==============================] - 0s 492us/step - loss: 1.0446 - acc: 0.6380 - val_loss: 1.0008 - val_acc: 0.6536\n",
      "Epoch 29/100\n",
      "500/500 [==============================] - 0s 590us/step - loss: 1.0457 - acc: 0.6400 - val_loss: 0.9858 - val_acc: 0.6597\n",
      "Epoch 30/100\n",
      "500/500 [==============================] - 0s 714us/step - loss: 1.0163 - acc: 0.6500 - val_loss: 0.9717 - val_acc: 0.6661\n",
      "Epoch 31/100\n",
      "500/500 [==============================] - 0s 752us/step - loss: 0.9947 - acc: 0.6480 - val_loss: 0.9584 - val_acc: 0.6735\n",
      "Epoch 32/100\n",
      "500/500 [==============================] - 0s 803us/step - loss: 0.9600 - acc: 0.6760 - val_loss: 0.9457 - val_acc: 0.6805\n",
      "Epoch 33/100\n",
      "500/500 [==============================] - 0s 524us/step - loss: 0.9672 - acc: 0.6860 - val_loss: 0.9341 - val_acc: 0.6855\n",
      "Epoch 34/100\n",
      "500/500 [==============================] - 0s 565us/step - loss: 0.9521 - acc: 0.6760 - val_loss: 0.9230 - val_acc: 0.6898\n",
      "Epoch 35/100\n",
      "500/500 [==============================] - 0s 478us/step - loss: 0.9380 - acc: 0.6720 - val_loss: 0.9125 - val_acc: 0.6943\n",
      "Epoch 36/100\n",
      "500/500 [==============================] - 0s 527us/step - loss: 0.9387 - acc: 0.6880 - val_loss: 0.9022 - val_acc: 0.6997\n",
      "Epoch 37/100\n",
      "500/500 [==============================] - 0s 892us/step - loss: 0.9194 - acc: 0.6940 - val_loss: 0.8928 - val_acc: 0.7042\n",
      "Epoch 38/100\n",
      "500/500 [==============================] - 0s 818us/step - loss: 0.9214 - acc: 0.6780 - val_loss: 0.8842 - val_acc: 0.7071\n",
      "Epoch 39/100\n",
      "500/500 [==============================] - 0s 583us/step - loss: 0.8868 - acc: 0.7020 - val_loss: 0.8755 - val_acc: 0.7103\n",
      "Epoch 40/100\n",
      "500/500 [==============================] - 0s 606us/step - loss: 0.8660 - acc: 0.7340 - val_loss: 0.8676 - val_acc: 0.7120\n",
      "Epoch 41/100\n",
      "500/500 [==============================] - 0s 655us/step - loss: 0.9033 - acc: 0.6780 - val_loss: 0.8597 - val_acc: 0.7155\n",
      "Epoch 42/100\n",
      "500/500 [==============================] - 0s 593us/step - loss: 0.8735 - acc: 0.7060 - val_loss: 0.8520 - val_acc: 0.7200\n",
      "Epoch 43/100\n",
      "500/500 [==============================] - 0s 695us/step - loss: 0.8784 - acc: 0.7100 - val_loss: 0.8448 - val_acc: 0.7231\n",
      "Epoch 44/100\n",
      "500/500 [==============================] - 0s 544us/step - loss: 0.8625 - acc: 0.7220 - val_loss: 0.8378 - val_acc: 0.7256\n",
      "Epoch 45/100\n",
      "500/500 [==============================] - 0s 696us/step - loss: 0.8511 - acc: 0.7320 - val_loss: 0.8313 - val_acc: 0.7270\n",
      "Epoch 46/100\n",
      "500/500 [==============================] - 0s 590us/step - loss: 0.8379 - acc: 0.7360 - val_loss: 0.8254 - val_acc: 0.7293\n",
      "Epoch 47/100\n",
      "500/500 [==============================] - 0s 673us/step - loss: 0.8151 - acc: 0.7420 - val_loss: 0.8198 - val_acc: 0.7303\n",
      "Epoch 48/100\n",
      "500/500 [==============================] - 0s 477us/step - loss: 0.8149 - acc: 0.7240 - val_loss: 0.8147 - val_acc: 0.7313\n",
      "Epoch 49/100\n",
      "500/500 [==============================] - 0s 474us/step - loss: 0.8332 - acc: 0.7340 - val_loss: 0.8091 - val_acc: 0.7348\n",
      "Epoch 50/100\n",
      "500/500 [==============================] - 0s 453us/step - loss: 0.8400 - acc: 0.7140 - val_loss: 0.8040 - val_acc: 0.7354\n",
      "Epoch 51/100\n",
      "500/500 [==============================] - 0s 463us/step - loss: 0.8097 - acc: 0.7240 - val_loss: 0.7991 - val_acc: 0.7373\n",
      "Epoch 52/100\n",
      "500/500 [==============================] - 0s 462us/step - loss: 0.8054 - acc: 0.7560 - val_loss: 0.7944 - val_acc: 0.7385\n",
      "Epoch 53/100\n",
      "500/500 [==============================] - 0s 710us/step - loss: 0.7839 - acc: 0.7520 - val_loss: 0.7896 - val_acc: 0.7410\n",
      "Epoch 54/100\n",
      "500/500 [==============================] - 0s 633us/step - loss: 0.7997 - acc: 0.7600 - val_loss: 0.7852 - val_acc: 0.7429\n",
      "Epoch 55/100\n",
      "500/500 [==============================] - 0s 726us/step - loss: 0.7900 - acc: 0.7620 - val_loss: 0.7805 - val_acc: 0.7443\n",
      "Epoch 56/100\n",
      "500/500 [==============================] - 0s 484us/step - loss: 0.7736 - acc: 0.7620 - val_loss: 0.7761 - val_acc: 0.7459\n",
      "Epoch 57/100\n",
      "500/500 [==============================] - 0s 466us/step - loss: 0.8008 - acc: 0.7040 - val_loss: 0.7718 - val_acc: 0.7482\n",
      "Epoch 58/100\n",
      "500/500 [==============================] - 0s 433us/step - loss: 0.7499 - acc: 0.7560 - val_loss: 0.7674 - val_acc: 0.7498\n",
      "Epoch 59/100\n",
      "500/500 [==============================] - 0s 419us/step - loss: 0.7801 - acc: 0.7440 - val_loss: 0.7633 - val_acc: 0.7501\n",
      "Epoch 60/100\n",
      "500/500 [==============================] - 0s 416us/step - loss: 0.7659 - acc: 0.7460 - val_loss: 0.7594 - val_acc: 0.7505\n",
      "Epoch 61/100\n",
      "500/500 [==============================] - 0s 733us/step - loss: 0.7416 - acc: 0.7560 - val_loss: 0.7557 - val_acc: 0.7507\n",
      "Epoch 62/100\n",
      "500/500 [==============================] - 0s 568us/step - loss: 0.7570 - acc: 0.7420 - val_loss: 0.7522 - val_acc: 0.7523\n",
      "Epoch 63/100\n",
      "500/500 [==============================] - 0s 733us/step - loss: 0.7617 - acc: 0.7700 - val_loss: 0.7487 - val_acc: 0.7531\n",
      "Epoch 64/100\n",
      "500/500 [==============================] - 0s 572us/step - loss: 0.7559 - acc: 0.7680 - val_loss: 0.7456 - val_acc: 0.7540\n",
      "Epoch 65/100\n",
      "500/500 [==============================] - 0s 417us/step - loss: 0.7566 - acc: 0.7500 - val_loss: 0.7426 - val_acc: 0.7558\n",
      "Epoch 66/100\n",
      "500/500 [==============================] - 0s 465us/step - loss: 0.7779 - acc: 0.7280 - val_loss: 0.7391 - val_acc: 0.7560\n",
      "Epoch 67/100\n",
      "500/500 [==============================] - 0s 478us/step - loss: 0.7337 - acc: 0.7820 - val_loss: 0.7358 - val_acc: 0.7577\n",
      "Epoch 68/100\n",
      "500/500 [==============================] - 0s 430us/step - loss: 0.7297 - acc: 0.7640 - val_loss: 0.7329 - val_acc: 0.7591\n",
      "Epoch 69/100\n",
      "500/500 [==============================] - 0s 561us/step - loss: 0.7229 - acc: 0.7700 - val_loss: 0.7300 - val_acc: 0.7593\n",
      "Epoch 70/100\n",
      "500/500 [==============================] - 0s 643us/step - loss: 0.7562 - acc: 0.7440 - val_loss: 0.7274 - val_acc: 0.7603\n",
      "Epoch 71/100\n",
      "500/500 [==============================] - 0s 559us/step - loss: 0.7358 - acc: 0.7780 - val_loss: 0.7244 - val_acc: 0.7610\n",
      "Epoch 72/100\n",
      "500/500 [==============================] - 0s 579us/step - loss: 0.7107 - acc: 0.7760 - val_loss: 0.7218 - val_acc: 0.7612\n",
      "Epoch 73/100\n",
      "500/500 [==============================] - 0s 456us/step - loss: 0.7221 - acc: 0.7600 - val_loss: 0.7191 - val_acc: 0.7622\n",
      "Epoch 74/100\n",
      "500/500 [==============================] - 0s 467us/step - loss: 0.7154 - acc: 0.7720 - val_loss: 0.7162 - val_acc: 0.7632\n",
      "Epoch 75/100\n",
      "500/500 [==============================] - 0s 459us/step - loss: 0.7180 - acc: 0.7820 - val_loss: 0.7137 - val_acc: 0.7630\n",
      "Epoch 76/100\n",
      "500/500 [==============================] - 0s 440us/step - loss: 0.7073 - acc: 0.7700 - val_loss: 0.7110 - val_acc: 0.7638\n",
      "Epoch 77/100\n",
      "500/500 [==============================] - 0s 571us/step - loss: 0.7204 - acc: 0.7580 - val_loss: 0.7086 - val_acc: 0.7651\n",
      "Epoch 78/100\n",
      "500/500 [==============================] - 0s 852us/step - loss: 0.7074 - acc: 0.7780 - val_loss: 0.7061 - val_acc: 0.7657\n",
      "Epoch 79/100\n",
      "500/500 [==============================] - 0s 645us/step - loss: 0.6749 - acc: 0.7860 - val_loss: 0.7036 - val_acc: 0.7651\n",
      "Epoch 80/100\n",
      "500/500 [==============================] - 0s 551us/step - loss: 0.6982 - acc: 0.7700 - val_loss: 0.7014 - val_acc: 0.7655\n",
      "Epoch 81/100\n",
      "500/500 [==============================] - 0s 759us/step - loss: 0.7136 - acc: 0.7700 - val_loss: 0.6996 - val_acc: 0.7659\n",
      "Epoch 82/100\n",
      "500/500 [==============================] - 0s 920us/step - loss: 0.6999 - acc: 0.7760 - val_loss: 0.6974 - val_acc: 0.7667\n",
      "Epoch 83/100\n",
      "500/500 [==============================] - 1s 1ms/step - loss: 0.6929 - acc: 0.7640 - val_loss: 0.6950 - val_acc: 0.7675\n",
      "Epoch 84/100\n",
      "500/500 [==============================] - 0s 853us/step - loss: 0.6893 - acc: 0.7620 - val_loss: 0.6927 - val_acc: 0.7684\n",
      "Epoch 85/100\n",
      "500/500 [==============================] - 0s 629us/step - loss: 0.7078 - acc: 0.7800 - val_loss: 0.6903 - val_acc: 0.7694\n",
      "Epoch 86/100\n",
      "500/500 [==============================] - 0s 456us/step - loss: 0.6911 - acc: 0.7680 - val_loss: 0.6879 - val_acc: 0.7700\n",
      "Epoch 87/100\n",
      "500/500 [==============================] - 0s 747us/step - loss: 0.7021 - acc: 0.7660 - val_loss: 0.6858 - val_acc: 0.7706\n",
      "Epoch 88/100\n",
      "500/500 [==============================] - 0s 858us/step - loss: 0.6658 - acc: 0.7840 - val_loss: 0.6839 - val_acc: 0.7708\n",
      "Epoch 89/100\n",
      "500/500 [==============================] - 0s 727us/step - loss: 0.6636 - acc: 0.7920 - val_loss: 0.6818 - val_acc: 0.7717\n",
      "Epoch 90/100\n",
      "500/500 [==============================] - 0s 502us/step - loss: 0.6671 - acc: 0.7920 - val_loss: 0.6798 - val_acc: 0.7721\n",
      "Epoch 91/100\n",
      "500/500 [==============================] - 0s 463us/step - loss: 0.6842 - acc: 0.7520 - val_loss: 0.6777 - val_acc: 0.7719\n",
      "Epoch 92/100\n",
      "500/500 [==============================] - 0s 425us/step - loss: 0.6798 - acc: 0.7840 - val_loss: 0.6754 - val_acc: 0.7721\n",
      "Epoch 93/100\n",
      "500/500 [==============================] - 0s 472us/step - loss: 0.6773 - acc: 0.7940 - val_loss: 0.6735 - val_acc: 0.7725\n",
      "Epoch 94/100\n",
      "500/500 [==============================] - 0s 499us/step - loss: 0.6564 - acc: 0.7940 - val_loss: 0.6720 - val_acc: 0.7731\n",
      "Epoch 95/100\n",
      "500/500 [==============================] - 0s 672us/step - loss: 0.6858 - acc: 0.7680 - val_loss: 0.6701 - val_acc: 0.7735\n",
      "Epoch 96/100\n",
      "500/500 [==============================] - 0s 489us/step - loss: 0.6808 - acc: 0.7580 - val_loss: 0.6683 - val_acc: 0.7747\n",
      "Epoch 97/100\n",
      "500/500 [==============================] - 0s 511us/step - loss: 0.6701 - acc: 0.7620 - val_loss: 0.6666 - val_acc: 0.7749\n",
      "Epoch 98/100\n",
      "500/500 [==============================] - 0s 465us/step - loss: 0.6825 - acc: 0.7820 - val_loss: 0.6652 - val_acc: 0.7751\n",
      "Epoch 99/100\n",
      "500/500 [==============================] - 0s 674us/step - loss: 0.6708 - acc: 0.7780 - val_loss: 0.6638 - val_acc: 0.7758\n",
      "Epoch 100/100\n",
      "500/500 [==============================] - 0s 777us/step - loss: 0.6642 - acc: 0.7860 - val_loss: 0.6622 - val_acc: 0.7754\n"
     ]
    }
   ],
   "source": [
    "hm2 = top4layers.fit(x_train59[0:500], y_train59[0:500], validation_data=(x_test59, y_test59), epochs=100, batch_size=128, callbacks=[es])"
   ]
  },
  {
   "cell_type": "markdown",
   "metadata": {},
   "source": [
    "vac_acc is better for 0.02 than in the case of 5 layers model"
   ]
  },
  {
   "cell_type": "code",
   "execution_count": 166,
   "metadata": {
    "collapsed": false
   },
   "outputs": [],
   "source": [
    "for layer in best_model.layers[:8]: # unfreeze 2 top layers\n",
    "    layer.trainable = True\n"
   ]
  },
  {
   "cell_type": "code",
   "execution_count": 167,
   "metadata": {
    "collapsed": false
   },
   "outputs": [
    {
     "name": "stderr",
     "output_type": "stream",
     "text": [
      "/Users/alikhil/anaconda/lib/python3.5/site-packages/ipykernel/__main__.py:8: UserWarning: Update your `Model` call to the Keras 2 API: `Model(inputs=Tensor(\"de..., outputs=Tensor(\"de...)`\n"
     ]
    }
   ],
   "source": [
    "last_model = replace_intermediate_layer_in_keras(best_model.model.layers[:-1], [Dense(5, activation='softmax', kernel_initializer='he_normal')])"
   ]
  },
  {
   "cell_type": "code",
   "execution_count": 168,
   "metadata": {
    "collapsed": true
   },
   "outputs": [],
   "source": [
    "compile(last_model)"
   ]
  },
  {
   "cell_type": "code",
   "execution_count": 170,
   "metadata": {
    "collapsed": false
   },
   "outputs": [
    {
     "name": "stdout",
     "output_type": "stream",
     "text": [
      "Train on 500 samples, validate on 4861 samples\n",
      "Epoch 1/100\n",
      "500/500 [==============================] - 3s 5ms/step - loss: 1.8914 - acc: 0.2260 - val_loss: 1.4630 - val_acc: 0.3868\n",
      "Epoch 2/100\n",
      "500/500 [==============================] - 0s 598us/step - loss: 1.5946 - acc: 0.3280 - val_loss: 1.2621 - val_acc: 0.5057\n",
      "Epoch 3/100\n",
      "500/500 [==============================] - 0s 603us/step - loss: 1.3908 - acc: 0.4460 - val_loss: 1.1112 - val_acc: 0.5972\n",
      "Epoch 4/100\n",
      "500/500 [==============================] - 0s 758us/step - loss: 1.2517 - acc: 0.5100 - val_loss: 0.9936 - val_acc: 0.6639\n",
      "Epoch 5/100\n",
      "500/500 [==============================] - 0s 760us/step - loss: 1.0793 - acc: 0.6040 - val_loss: 0.8975 - val_acc: 0.7056\n",
      "Epoch 6/100\n",
      "500/500 [==============================] - 0s 756us/step - loss: 0.9536 - acc: 0.6800 - val_loss: 0.8166 - val_acc: 0.7359\n",
      "Epoch 7/100\n",
      "500/500 [==============================] - 1s 1ms/step - loss: 0.8601 - acc: 0.7380 - val_loss: 0.7507 - val_acc: 0.7577\n",
      "Epoch 8/100\n",
      "500/500 [==============================] - 0s 862us/step - loss: 0.8023 - acc: 0.7640 - val_loss: 0.6958 - val_acc: 0.7789\n",
      "Epoch 9/100\n",
      "500/500 [==============================] - 0s 760us/step - loss: 0.7484 - acc: 0.7880 - val_loss: 0.6481 - val_acc: 0.7974\n",
      "Epoch 10/100\n",
      "500/500 [==============================] - 1s 1ms/step - loss: 0.6651 - acc: 0.8160 - val_loss: 0.6070 - val_acc: 0.8124\n",
      "Epoch 11/100\n",
      "500/500 [==============================] - 0s 737us/step - loss: 0.6429 - acc: 0.8200 - val_loss: 0.5719 - val_acc: 0.8274\n",
      "Epoch 12/100\n",
      "500/500 [==============================] - 0s 646us/step - loss: 0.5726 - acc: 0.8520 - val_loss: 0.5430 - val_acc: 0.8358\n",
      "Epoch 13/100\n",
      "500/500 [==============================] - 0s 660us/step - loss: 0.5368 - acc: 0.8720 - val_loss: 0.5176 - val_acc: 0.8447\n",
      "Epoch 14/100\n",
      "500/500 [==============================] - 0s 605us/step - loss: 0.4926 - acc: 0.8900 - val_loss: 0.4967 - val_acc: 0.8494\n",
      "Epoch 15/100\n",
      "500/500 [==============================] - 0s 876us/step - loss: 0.4763 - acc: 0.8980 - val_loss: 0.4780 - val_acc: 0.8529\n",
      "Epoch 16/100\n",
      "500/500 [==============================] - 0s 763us/step - loss: 0.4516 - acc: 0.8780 - val_loss: 0.4613 - val_acc: 0.8572\n",
      "Epoch 17/100\n",
      "500/500 [==============================] - 0s 639us/step - loss: 0.4038 - acc: 0.9100 - val_loss: 0.4461 - val_acc: 0.8618\n",
      "Epoch 18/100\n",
      "500/500 [==============================] - 0s 618us/step - loss: 0.4038 - acc: 0.9020 - val_loss: 0.4334 - val_acc: 0.8657\n",
      "Epoch 19/100\n",
      "500/500 [==============================] - 0s 570us/step - loss: 0.3680 - acc: 0.9160 - val_loss: 0.4200 - val_acc: 0.8704\n",
      "Epoch 20/100\n",
      "500/500 [==============================] - 0s 606us/step - loss: 0.3681 - acc: 0.9200 - val_loss: 0.4066 - val_acc: 0.8749\n",
      "Epoch 21/100\n",
      "500/500 [==============================] - 0s 987us/step - loss: 0.3405 - acc: 0.9300 - val_loss: 0.3948 - val_acc: 0.8774\n",
      "Epoch 22/100\n",
      "500/500 [==============================] - 0s 964us/step - loss: 0.3142 - acc: 0.9180 - val_loss: 0.3828 - val_acc: 0.8803\n",
      "Epoch 23/100\n",
      "500/500 [==============================] - 0s 688us/step - loss: 0.3037 - acc: 0.9200 - val_loss: 0.3734 - val_acc: 0.8823\n",
      "Epoch 24/100\n",
      "500/500 [==============================] - 0s 780us/step - loss: 0.2994 - acc: 0.9420 - val_loss: 0.3656 - val_acc: 0.8858\n",
      "Epoch 25/100\n",
      "500/500 [==============================] - 0s 988us/step - loss: 0.2720 - acc: 0.9380 - val_loss: 0.3588 - val_acc: 0.8871\n",
      "Epoch 26/100\n",
      "500/500 [==============================] - 0s 776us/step - loss: 0.2490 - acc: 0.9680 - val_loss: 0.3537 - val_acc: 0.8881\n",
      "Epoch 27/100\n",
      "500/500 [==============================] - 0s 729us/step - loss: 0.2506 - acc: 0.9380 - val_loss: 0.3498 - val_acc: 0.8895\n",
      "Epoch 28/100\n",
      "500/500 [==============================] - 0s 695us/step - loss: 0.2346 - acc: 0.9520 - val_loss: 0.3448 - val_acc: 0.8904\n",
      "Epoch 29/100\n",
      "500/500 [==============================] - 0s 694us/step - loss: 0.2411 - acc: 0.9440 - val_loss: 0.3404 - val_acc: 0.8930\n",
      "Epoch 30/100\n",
      "500/500 [==============================] - 1s 1ms/step - loss: 0.2156 - acc: 0.9640 - val_loss: 0.3360 - val_acc: 0.8941\n",
      "Epoch 31/100\n",
      "500/500 [==============================] - 0s 782us/step - loss: 0.2032 - acc: 0.9620 - val_loss: 0.3331 - val_acc: 0.8945\n",
      "Epoch 32/100\n",
      "500/500 [==============================] - 0s 977us/step - loss: 0.1947 - acc: 0.9580 - val_loss: 0.3293 - val_acc: 0.8949\n",
      "Epoch 33/100\n",
      "500/500 [==============================] - 0s 700us/step - loss: 0.1638 - acc: 0.9760 - val_loss: 0.3245 - val_acc: 0.8957\n",
      "Epoch 34/100\n",
      "500/500 [==============================] - 1s 1ms/step - loss: 0.1751 - acc: 0.9660 - val_loss: 0.3215 - val_acc: 0.8959\n",
      "Epoch 35/100\n",
      "500/500 [==============================] - 1s 1ms/step - loss: 0.1798 - acc: 0.9660 - val_loss: 0.3155 - val_acc: 0.8973\n",
      "Epoch 36/100\n",
      "500/500 [==============================] - 0s 980us/step - loss: 0.1631 - acc: 0.9740 - val_loss: 0.3128 - val_acc: 0.8976\n",
      "Epoch 37/100\n",
      "500/500 [==============================] - 0s 951us/step - loss: 0.1539 - acc: 0.9760 - val_loss: 0.3099 - val_acc: 0.8984\n",
      "Epoch 38/100\n",
      "500/500 [==============================] - 0s 909us/step - loss: 0.1534 - acc: 0.9760 - val_loss: 0.3072 - val_acc: 0.8990\n",
      "Epoch 39/100\n",
      "500/500 [==============================] - 0s 969us/step - loss: 0.1338 - acc: 0.9800 - val_loss: 0.3046 - val_acc: 0.8992\n",
      "Epoch 40/100\n",
      "500/500 [==============================] - 0s 763us/step - loss: 0.1421 - acc: 0.9760 - val_loss: 0.3022 - val_acc: 0.8992\n",
      "Epoch 41/100\n",
      "500/500 [==============================] - 0s 626us/step - loss: 0.1392 - acc: 0.9780 - val_loss: 0.3001 - val_acc: 0.9010\n",
      "Epoch 42/100\n",
      "500/500 [==============================] - 0s 632us/step - loss: 0.1249 - acc: 0.9800 - val_loss: 0.2985 - val_acc: 0.9013\n",
      "Epoch 43/100\n",
      "500/500 [==============================] - 0s 568us/step - loss: 0.1144 - acc: 0.9840 - val_loss: 0.2964 - val_acc: 0.9019\n",
      "Epoch 44/100\n",
      "500/500 [==============================] - 0s 779us/step - loss: 0.1216 - acc: 0.9800 - val_loss: 0.2938 - val_acc: 0.9033\n",
      "Epoch 45/100\n",
      "500/500 [==============================] - 0s 839us/step - loss: 0.1171 - acc: 0.9800 - val_loss: 0.2919 - val_acc: 0.9048\n",
      "Epoch 46/100\n",
      "500/500 [==============================] - 0s 753us/step - loss: 0.1053 - acc: 0.9900 - val_loss: 0.2902 - val_acc: 0.9058\n",
      "Epoch 47/100\n",
      "500/500 [==============================] - 0s 588us/step - loss: 0.1024 - acc: 0.9860 - val_loss: 0.2884 - val_acc: 0.9070\n",
      "Epoch 48/100\n",
      "500/500 [==============================] - 0s 575us/step - loss: 0.0930 - acc: 0.9860 - val_loss: 0.2868 - val_acc: 0.9070\n",
      "Epoch 49/100\n",
      "500/500 [==============================] - 0s 558us/step - loss: 0.0938 - acc: 0.9880 - val_loss: 0.2852 - val_acc: 0.9070\n",
      "Epoch 50/100\n",
      "500/500 [==============================] - 0s 594us/step - loss: 0.0983 - acc: 0.9860 - val_loss: 0.2839 - val_acc: 0.9082\n",
      "Epoch 51/100\n",
      "500/500 [==============================] - 0s 856us/step - loss: 0.0867 - acc: 0.9960 - val_loss: 0.2825 - val_acc: 0.9078\n",
      "Epoch 52/100\n",
      "500/500 [==============================] - 0s 715us/step - loss: 0.0836 - acc: 0.9960 - val_loss: 0.2818 - val_acc: 0.9070\n",
      "Epoch 53/100\n",
      "500/500 [==============================] - 0s 698us/step - loss: 0.0781 - acc: 0.9940 - val_loss: 0.2809 - val_acc: 0.9078\n",
      "Epoch 00053: early stopping\n"
     ]
    },
    {
     "data": {
      "text/plain": [
       "<keras.callbacks.History at 0x1337a3128>"
      ]
     },
     "execution_count": 170,
     "metadata": {},
     "output_type": "execute_result"
    }
   ],
   "source": [
    "last_model.fit(x_train59[0:500], y_train59[0:500], validation_data=(x_test59, y_test59), epochs=100, batch_size=128, callbacks=[es])"
   ]
  },
  {
   "cell_type": "markdown",
   "metadata": {},
   "source": [
    "Yea, unfreezing top 2 layers increases accuracy up to 90%"
   ]
  },
  {
   "cell_type": "code",
   "execution_count": null,
   "metadata": {
    "collapsed": true
   },
   "outputs": [],
   "source": []
  }
 ],
 "metadata": {
  "anaconda-cloud": {},
  "kernelspec": {
   "display_name": "Python [conda env:anaconda]",
   "language": "python",
   "name": "conda-env-anaconda-py"
  },
  "language_info": {
   "codemirror_mode": {
    "name": "ipython",
    "version": 3
   },
   "file_extension": ".py",
   "mimetype": "text/x-python",
   "name": "python",
   "nbconvert_exporter": "python",
   "pygments_lexer": "ipython3",
   "version": "3.5.2"
  }
 },
 "nbformat": 4,
 "nbformat_minor": 1
}
